{
 "cells": [
  {
   "cell_type": "markdown",
   "id": "87dfe1df",
   "metadata": {},
   "source": [
    "<table>\n",
    "    <tr><td>NAMA</td><td>:</td><td> Atika Dewi Setiani </td><tr>\n",
    "    <tr><td>NIM</td><td>:</td><td> 5302420028 </td><tr>\n",
    "</table>"
   ]
  },
  {
   "cell_type": "markdown",
   "id": "7199da43",
   "metadata": {},
   "source": [
    "# Python Data Type"
   ]
  },
  {
   "cell_type": "markdown",
   "id": "04b05f6b",
   "metadata": {},
   "source": [
    "## Tipe Data Bilangan"
   ]
  },
  {
   "cell_type": "markdown",
   "id": "dffcfc97",
   "metadata": {},
   "source": [
    "#Tuliskan kode-kode program dibawah ini pada yang disediakan</br>\n",
    "a = 11 #intege</br>\n",
    "print(hex(a))\n",
    "</br></br>\n",
    "b = 3.2 # float(decimal)</br>\n",
    "print(oct(int(b)))\n",
    "</br></br>\n",
    "d = 0X1A # hexadecimal: '0X' is used before number i.e. 1A</br>\n",
    "print(d) # 26\n",
    "</br></br>\n",
    "#add hex and float </br>\n",
    "print(b+d) # 29.2\n",
    "</br></br>\n",
    "c = 0o17 #octal: '0o' is used before number i.e. 17 <br>\n",
    "#print command shows the integer value<br>\n",
    "print(c) # 15 <br>\n",
    "</br>\n",
    "#to see octal form use oct </br>\n",
    "print(oct(c)) #0o17 </br>\n",
    "</br></br>\n",
    "e = 3+2j # imagenary </br>\n",
    "print(e) #(3+2j)</br>\n",
    "</br></br>\n",
    "print(abs(e)) # 3.6055512754639896 # round above value upto 2 decimal r=round(abs(e),2)\n",
    "</br>\n",
    "print(r) # 3.61"
   ]
  },
  {
   "cell_type": "markdown",
   "id": "2828bda8",
   "metadata": {},
   "source": [
    "### Pendalaman Materi -> Number"
   ]
  },
  {
   "cell_type": "markdown",
   "id": "770541b2",
   "metadata": {},
   "source": [
    "Bagaimana cara merubah bilangan integer dan float menjadi bilangan hexadesimal dan oktal"
   ]
  },
  {
   "cell_type": "code",
   "execution_count": 8,
   "id": "c32892ec",
   "metadata": {},
   "outputs": [
    {
     "name": "stdout",
     "output_type": "stream",
     "text": [
      "0x42\n",
      "0o14\n"
     ]
    }
   ],
   "source": [
    "a = 66\n",
    "print(hex(a))\n",
    "b = 12.1\n",
    "print(oct(int(b)))"
   ]
  },
  {
   "cell_type": "markdown",
   "id": "2bd67910",
   "metadata": {},
   "source": [
    "Bagamana merubah bilangan float ke integer dan sebaliknya"
   ]
  },
  {
   "cell_type": "code",
   "execution_count": 4,
   "id": "621ea5bb",
   "metadata": {},
   "outputs": [
    {
     "name": "stdout",
     "output_type": "stream",
     "text": [
      "57.0\n",
      "125\n"
     ]
    }
   ],
   "source": [
    "f = 57\n",
    "print(float(f))\n",
    "c = 125.0\n",
    "print(int(c))"
   ]
  },
  {
   "cell_type": "markdown",
   "id": "a7c071cf",
   "metadata": {},
   "source": [
    "Bagaimana menentukan besarnya bilangan non imajiner pada bilangan komplek"
   ]
  },
  {
   "cell_type": "code",
   "execution_count": 18,
   "id": "b451c58b",
   "metadata": {},
   "outputs": [
    {
     "name": "stdout",
     "output_type": "stream",
     "text": [
      "(3+5j)\n"
     ]
    }
   ],
   "source": [
    "a = 3+5j\n",
    "print(a)"
   ]
  },
  {
   "cell_type": "markdown",
   "id": "7a3a415c",
   "metadata": {},
   "source": [
    "## Tipe Data String"
   ]
  },
  {
   "cell_type": "markdown",
   "id": "06a36b49",
   "metadata": {},
   "source": [
    "firstName = \"Meher\" #firstName is variable of string type </br>\n",
    "print(firstName) # Meher </br>\n",
    "fullName = \"Meher Krishna Patel\" </br>\n",
    "print(fullName) # Meher Krishna Patel </br>\n",
    "#input is used to take input from user </br>\n",
    "score1 = input(\"Enter the score 1: \") #enter some value e.g. 12 </br>\n",
    "score2 = input(\"Enter the score 2: \") #enter some value e.g. 36 </br>\n",
    "totalString = score1 + score2 # add score1 and score2 </br>\n",
    "messageString = \"Total score is %s\" </br>\n",
    "</br></br>\n",
    "#in below print, totalstring will be assinge to %s of messageString </br>\n",
    "print(messageString % totalString) # 1236 (undesired result) </br>\n",
    "#score1 and score2 are saved as string above </br>\n",
    "#first we need to convert these into integers as below </br>\n",
    "totalInt = int(score1) + int(score2)# add score1 and score2 </br>\n",
    "messageString = \"Total score is %s\" </br>\n",
    "print(messageString % totalInt) # 48 </br>\n",
    "</br></br>\n",
    "#change the input as integer immediately </br>\n",
    "score1 = int(input(\"Enter the score 1: \")) #enter some value e.g. 12 </br>\n",
    "score2 = int(input(\"Enter the score 2: \")) #enter some value e.g. 36 </br>\n",
    "total = score1 + score2 # add score1 and score2 </br>\n",
    "messageString = \"score1(%s ) + score2[%s ] = %s \" </br>\n",
    "print(messageString % (score1, score2, total)) #score1(12) + score2[36] = 48"
   ]
  },
  {
   "cell_type": "markdown",
   "id": "6d5f5aad",
   "metadata": {},
   "source": [
    "### Pendalaman Materi -> String"
   ]
  },
  {
   "cell_type": "markdown",
   "id": "e4647128",
   "metadata": {},
   "source": [
    "Bagaiman caranya kita menandai nilai dari sebuah variabel sebagai string, berikan contohnya?"
   ]
  },
  {
   "cell_type": "code",
   "execution_count": null,
   "id": "4dd2f240",
   "metadata": {},
   "outputs": [],
   "source": [
    "nama = input(\"Nama: \")\n",
    "\n",
    "print (\"Hello saya adalah \",nama,\"umur saya adalah \",umur,\"tahun\")"
   ]
  },
  {
   "cell_type": "markdown",
   "id": "2d354a34",
   "metadata": {},
   "source": [
    "Apa fungsi perintah \"input\" pada kode program ditas?, secara default tipe data yang diterima ditandai sebagai tipe data berbentuk ...."
   ]
  },
  {
   "cell_type": "code",
   "execution_count": null,
   "id": "3569025f",
   "metadata": {},
   "outputs": [],
   "source": [
    "Fungsi perintah \"input\" pada kode program diatas berfungsi untuk meminta masukan dari pengguna program. Secara default tipe data yang diterima ditandai sebagai tipe data berbentuk string"
   ]
  },
  {
   "cell_type": "markdown",
   "id": "547571c0",
   "metadata": {},
   "source": [
    "Bagaimana perintah yang tepat untuk menghasilkan nilai yan benar pada penambahan dua nilai jika nilai yang dimasukkan berbentuk desimal?"
   ]
  },
  {
   "cell_type": "code",
   "execution_count": null,
   "id": "ba94169e",
   "metadata": {},
   "outputs": [],
   "source": [
    "a = 3.6\n",
    "b = 6.3\n",
    "c = a + b\n",
    "print(c)"
   ]
  },
  {
   "cell_type": "code",
   "execution_count": null,
   "id": "c806116c",
   "metadata": {},
   "outputs": [],
   "source": [
    "## Tipe Data LIST"
   ]
  },
  {
   "cell_type": "markdown",
   "id": "9a2ce6e4",
   "metadata": {},
   "source": [
    "a = [24, \"as it is\", \"abc\", 2+2j] </br>\n",
    "#index start with 0 </br>\n",
    "#i.e. location of number 24 is '0' in the list print(a[0]) # 24 </br>\n",
    "print(a[2]) # abc </br>\n",
    "</br></br>\n",
    "#replace 'abc' with 'xyz' </br>\n",
    "a[2]='xyz' print(a[2]) # xyz </br>\n",
    "</br></br>\n",
    "#Add 20 at the end of list </br>\n",
    "a.append(20) </br>\n",
    "print(a) # [24, 'as it is', 'abc', (2+2j), 20] </br>"
   ]
  },
  {
   "cell_type": "markdown",
   "id": "f03459bd",
   "metadata": {},
   "source": [
    "### Pendalaman Materi -> List"
   ]
  },
  {
   "cell_type": "markdown",
   "id": "0c9da053",
   "metadata": {},
   "source": [
    "Buatlah dua buah variabel berbentuk list yang berisi 4 buah nilai integer "
   ]
  },
  {
   "cell_type": "code",
   "execution_count": 10,
   "id": "eb22a6c3",
   "metadata": {},
   "outputs": [],
   "source": [
    "a = [4, 5, 6, 7]\n",
    "b = [7, 8, 9, 10]"
   ]
  },
  {
   "cell_type": "markdown",
   "id": "43bb31be",
   "metadata": {},
   "source": [
    "Tambahkan kedua variabel yang telah anda buat dan simpan pada variable \"hasil\""
   ]
  },
  {
   "cell_type": "code",
   "execution_count": 11,
   "id": "0d231be5",
   "metadata": {},
   "outputs": [
    {
     "name": "stdout",
     "output_type": "stream",
     "text": [
      "[11, 13, 15, 17]\n"
     ]
    }
   ],
   "source": [
    "a = [4, 5, 6, 7]\n",
    "b = [7, 8, 9, 10]\n",
    "\n",
    "hasil = [sum(x) for x in zip(a, b)]\n",
    "\n",
    "print(hasil)"
   ]
  },
  {
   "cell_type": "markdown",
   "id": "7abc9d6f",
   "metadata": {},
   "source": [
    "Tambahkan dua buah bilangan (angka 100 dan 200) pada variabel \"hasil\""
   ]
  },
  {
   "cell_type": "code",
   "execution_count": 14,
   "id": "4751477f",
   "metadata": {},
   "outputs": [
    {
     "name": "stdout",
     "output_type": "stream",
     "text": [
      "[11, 13, 15, 17, 100, 200]\n"
     ]
    }
   ],
   "source": [
    "a = [4, 5, 6, 7]\n",
    "b = [7, 8, 9, 10]\n",
    "\n",
    "hasil = [sum(x) for x in zip(a, b)]\n",
    "\n",
    "hasil.append(100)\n",
    "hasil.append(200)\n",
    "\n",
    "print(hasil)"
   ]
  },
  {
   "cell_type": "markdown",
   "id": "4586b6cd",
   "metadata": {},
   "source": [
    "Tampilkan nilai pada indek ke 0 dan ke 3 variabel \"hasil\" "
   ]
  },
  {
   "cell_type": "code",
   "execution_count": 13,
   "id": "805f9b87",
   "metadata": {},
   "outputs": [
    {
     "name": "stdout",
     "output_type": "stream",
     "text": [
      "[16, 13, 15, 25]\n"
     ]
    }
   ],
   "source": [
    "a = [4, 5, 6, 7]\n",
    "b = [7, 8, 9, 10]\n",
    "\n",
    "hasil = [sum(x) for x in zip(a, b)]\n",
    "\n",
    "hasil[0] += 5\n",
    "hasil[3] += 8\n",
    "\n",
    "print(hasil)"
   ]
  },
  {
   "cell_type": "markdown",
   "id": "2c846663",
   "metadata": {},
   "source": [
    "Carilah infotmasi apa yang dimaksud dengan nested list?"
   ]
  },
  {
   "cell_type": "code",
   "execution_count": null,
   "id": "c6db28d3",
   "metadata": {},
   "outputs": [],
   "source": [
    "Nested list merupakan sebuah list yang didalamnya terdapat list lagi (sublist) atau bisa dikatakan sebagai list bersarang"
   ]
  },
  {
   "cell_type": "markdown",
   "id": "216b7d6c",
   "metadata": {},
   "source": [
    "Buatlah sebuah variabel yang berbentuk nested list"
   ]
  },
  {
   "cell_type": "code",
   "execution_count": null,
   "id": "452d44b8",
   "metadata": {},
   "outputs": [],
   "source": [
    "nested_list = [1, [2, 3], [4, 5]]"
   ]
  },
  {
   "cell_type": "markdown",
   "id": "cee942c7",
   "metadata": {},
   "source": [
    "## Tipe Data Dictionary"
   ]
  },
  {
   "cell_type": "markdown",
   "id": "7b7ec9ed",
   "metadata": {},
   "source": [
    "myDict = {} # define new dictionary </br>\n",
    "myDict[1] = \"one\" # 1 is called key; \"one\" is called value </br>\n",
    "myDict['a'] = \"alphabet\"</br>\n",
    "print(myDict) # {1: 'one', 'a': 'alphabet'}</br>\n",
    "</br></br>\n",
    "print(myDict.items()) # dict_items([(1, 'one'), ('a', 'alphabet')]) </br>\n",
    "print(myDict.keys()) # dict_keys([1, 'a']) </br>\n",
    "print(myDict.values()) # dict_values(['one', 'alphabet']) </br>\n",
    "</br></br>\n",
    "print(myDict[1]) #one \n",
    "print(myDict['a']) # alphabet\n",
    "</br></br>\n",
    "#add key-value while creating the dictionary </br>\n",
    "subjectDict = {'py': 'Python', 'np': 'Numpy', 'sp':'Scipy'} </br>\n",
    "print(subjectDict) # {'py': 'Python', 'sp': 'Scipy', 'np': 'Numpy'}</br>"
   ]
  },
  {
   "cell_type": "markdown",
   "id": "10c3182c",
   "metadata": {},
   "source": [
    "### Pendalaman Materi -> Dictionary"
   ]
  },
  {
   "cell_type": "markdown",
   "id": "470c6dde",
   "metadata": {},
   "source": [
    "Bagaimana cara membuat variabel benrbentui dictionary"
   ]
  },
  {
   "cell_type": "code",
   "execution_count": null,
   "id": "b61c46a7",
   "metadata": {},
   "outputs": [],
   "source": [
    "Dictionary dapat dikatakan sebagai salah satu tipe data yang menyimpan pasangan key dan value. Key sendiri merupakan identifikasi yang unik untuk stiap elemen yang ada dalam dictionari, sedangkan untuk value sendiri merupakan nilai dari elemen-elemen tersebut"
   ]
  },
  {
   "cell_type": "markdown",
   "id": "fc8aabf3",
   "metadata": {},
   "source": [
    "Apa fungsi dari perintah myDict.items(), myDict.keys(), myDict.keys()"
   ]
  },
  {
   "cell_type": "code",
   "execution_count": null,
   "id": "a96b8904",
   "metadata": {},
   "outputs": [],
   "source": [
    "myDict.items() merupakan salah satu method yang terdapat pada tipe data dictionary yang berfungsi untuk mengembalikan sebuah view objek yang berisi setiap pasangan key-value dari dictionari 'myDict'. Sedangkan untuk myDict.keys() merupakan salah satu method yang terdapat pada tipe data dictionary yang berfungsi untuk mengembalikan sebuah view objek yang berisi setiap key dari dictionary 'myDict.'  "
   ]
  },
  {
   "cell_type": "markdown",
   "id": "e9ebffd3",
   "metadata": {},
   "source": [
    "Buatlah variabel distionary dari dua buah list"
   ]
  },
  {
   "cell_type": "code",
   "execution_count": 55,
   "id": "d21a6067",
   "metadata": {},
   "outputs": [
    {
     "name": "stdout",
     "output_type": "stream",
     "text": [
      "{'nama': 'Atika', 'gender': 'Perempuan', 'umur': 20}\n"
     ]
    }
   ],
   "source": [
    "key = [\"nama\", \"gender\", \"umur\"]\n",
    "value = [\"Atika\", \"Perempuan\", 20]\n",
    "\n",
    "Biodata = dict(zip(key, value))\n",
    "\n",
    "print(Biodata)"
   ]
  },
  {
   "cell_type": "markdown",
   "id": "27760be5",
   "metadata": {},
   "source": [
    "# Python Function"
   ]
  },
  {
   "cell_type": "markdown",
   "id": "8a975050",
   "metadata": {},
   "source": [
    "def addTwoNum(a, b): <br>\n",
    "    sum = a+b <br>\n",
    "    return(sum) <br>\n",
    "result = addTwoNum(3,4) <br>\n",
    "print(\"sum of numbers is %s\" % result) <br>\n",
    "\n",
    "<br><br>\n",
    "def addTwoNum(num1, num2=2): <br>\n",
    "    return(num1+num2)<br>\n",
    "result1 = addTwoNum(3)<br>\n",
    "print(\"result1=%s\" % result1) <br>\n",
    "result2 = addTwoNum(3,4) <br>\n",
    "print(\"result2=%s\" % result2) <br>"
   ]
  },
  {
   "cell_type": "markdown",
   "id": "1662ee8d",
   "metadata": {},
   "source": [
    "### Pendalaman Materi -> Function"
   ]
  },
  {
   "cell_type": "markdown",
   "id": "2d5ec306",
   "metadata": {},
   "source": [
    "Buatlah sebuah fungsi dengan tipe tanpa argumen tanpa return"
   ]
  },
  {
   "cell_type": "code",
   "execution_count": 49,
   "id": "daf812e4",
   "metadata": {},
   "outputs": [],
   "source": [
    "def say_hai():\n",
    "  print(\"Hai, Atika\")"
   ]
  },
  {
   "cell_type": "code",
   "execution_count": 50,
   "id": "5e9178af",
   "metadata": {},
   "outputs": [
    {
     "name": "stdout",
     "output_type": "stream",
     "text": [
      "Hai, Atika\n"
     ]
    }
   ],
   "source": [
    "say_hai()"
   ]
  },
  {
   "cell_type": "markdown",
   "id": "24576a9f",
   "metadata": {},
   "source": [
    "Buatlah sebuah fungsi dengan tipe tanpa argumen dengan return"
   ]
  },
  {
   "cell_type": "code",
   "execution_count": 51,
   "id": "f0e639be",
   "metadata": {},
   "outputs": [],
   "source": [
    "def say_hai():\n",
    "  return \"Hai, Atika\""
   ]
  },
  {
   "cell_type": "code",
   "execution_count": 52,
   "id": "053d5f08",
   "metadata": {},
   "outputs": [
    {
     "name": "stdout",
     "output_type": "stream",
     "text": [
      "Hai, Atika\n"
     ]
    }
   ],
   "source": [
    "say_hai = say_hai()\n",
    "print(say_hai)"
   ]
  },
  {
   "cell_type": "markdown",
   "id": "b74ea98a",
   "metadata": {},
   "source": [
    "Buatlah sebuah fungsi dengan tipe dengan argumen tanpa return"
   ]
  },
  {
   "cell_type": "code",
   "execution_count": 40,
   "id": "3f11b9f1",
   "metadata": {},
   "outputs": [],
   "source": [
    "def say_hai(name):\n",
    "    print(\"Hai, \" + name)"
   ]
  },
  {
   "cell_type": "code",
   "execution_count": 41,
   "id": "d7018f01",
   "metadata": {},
   "outputs": [
    {
     "name": "stdout",
     "output_type": "stream",
     "text": [
      "Hai, Atika\n"
     ]
    }
   ],
   "source": [
    "say_hai(\"Atika\")"
   ]
  },
  {
   "cell_type": "markdown",
   "id": "a10bdade",
   "metadata": {},
   "source": [
    "Buatlah sebuah fungsi dengan tipe dengan argumen dengan return"
   ]
  },
  {
   "cell_type": "code",
   "execution_count": 42,
   "id": "e6d5fc07",
   "metadata": {},
   "outputs": [],
   "source": [
    "def say_hai(name):\n",
    "    return \"Hai, \" + name"
   ]
  },
  {
   "cell_type": "code",
   "execution_count": 43,
   "id": "af02042c",
   "metadata": {},
   "outputs": [
    {
     "name": "stdout",
     "output_type": "stream",
     "text": [
      "Hai, Atika\n"
     ]
    }
   ],
   "source": [
    "say_hai = say_hai(\"Atika\")\n",
    "print(say_hai)"
   ]
  }
 ],
 "metadata": {
  "kernelspec": {
   "display_name": "Python 3 (ipykernel)",
   "language": "python",
   "name": "python3"
  },
  "language_info": {
   "codemirror_mode": {
    "name": "ipython",
    "version": 3
   },
   "file_extension": ".py",
   "mimetype": "text/x-python",
   "name": "python",
   "nbconvert_exporter": "python",
   "pygments_lexer": "ipython3",
   "version": "3.9.13"
  }
 },
 "nbformat": 4,
 "nbformat_minor": 5
}
